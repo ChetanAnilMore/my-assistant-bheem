{
 "cells": [
  {
   "cell_type": "code",
   "execution_count": null,
   "id": "c659f9ce",
   "metadata": {},
   "outputs": [],
   "source": [
    "musicLibrary = {\n",
    "    \"jadui\" : \"https://www.youtube.com/watch?v=qNSv9I0Flac\",\n",
    "    \"nakhrewali\" : \"https://www.youtube.com/watch?v=UV7DA6-hLIo\",\n",
    "    \"jhumka\" : \"https://www.youtube.com/watch?v=VcefyDYW-VE\",\n",
    "    \"dance ka bhoot\" : \"https://www.youtube.com/watch?v=mbN9MHQ0ZTU\"\n",
    "}"
   ]
  }
 ],
 "metadata": {
  "kernelspec": {
   "display_name": "Python 3 (ipykernel)",
   "language": "python",
   "name": "python3"
  },
  "language_info": {
   "codemirror_mode": {
    "name": "ipython",
    "version": 3
   },
   "file_extension": ".py",
   "mimetype": "text/x-python",
   "name": "python",
   "nbconvert_exporter": "python",
   "pygments_lexer": "ipython3",
   "version": "3.11.5"
  }
 },
 "nbformat": 4,
 "nbformat_minor": 5
}
